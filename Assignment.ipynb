{
 "cells": [
  {
   "cell_type": "code",
   "execution_count": null,
   "id": "20bcb471-1e40-4534-bdb3-0aa394185c0b",
   "metadata": {},
   "outputs": [],
   "source": [
    "# Q1: Explain the key features of Python that make it a popular choice for programming.\n",
    "# Ans: Key features of python that make it popular choice for programming:-\n",
    "# 1. Python is free to use and distribute and is supported by community.\n",
    "# 2. Python interpreter is avaiable for every major platform.\n",
    "# 3. Python programs run unchanged on most platforms.\n",
    "# 4. Pyhton runs on every major platforms currently in use.\n",
    "# 5. Vast collection of third party libiraies."
   ]
  },
  {
   "cell_type": "code",
   "execution_count": null,
   "id": "b838eb61-51df-460d-93fa-8347b30ae5a2",
   "metadata": {},
   "outputs": [],
   "source": [
    "# Q2: Describe the role of predefined keywords in Python and provide examples of how they are used in a program.\n",
    "# Ans: Here are some examples of predefined keywords:-\n",
    "# False    await      else     import    pass\n",
    "# None     break      except   in        raise\n",
    "# True     Class      finally  is        return\n",
    "# and      continue   for      lambda    try\n",
    "# as       def        from     nonlocal  while\n",
    "# assert   del        golbal   not       with\n",
    "# async    elif       if       or        yield\n"
   ]
  },
  {
   "cell_type": "code",
   "execution_count": 1,
   "id": "62142f4e-cf1e-456a-85bb-331e9e2f4c69",
   "metadata": {},
   "outputs": [
    {
     "data": {
      "text/plain": [
       "[25, 2, 50, 4]"
      ]
     },
     "execution_count": 1,
     "metadata": {},
     "output_type": "execute_result"
    }
   ],
   "source": [
    "# Q3: Compare and contrast mutable and immutable objects in Python with examples.\n",
    "# Ans: Mutable:- Mutable objects are those objects whose values can be change.\n",
    "# Example:- List, set, dictionary.\n",
    "li = [1, 2, 3, 4]\n",
    "li[0]= 25\n",
    "li[2]= 50\n",
    "li"
   ]
  },
  {
   "cell_type": "code",
   "execution_count": 2,
   "id": "39355563-5cc9-40ae-9401-8bf1c91b658f",
   "metadata": {},
   "outputs": [
    {
     "data": {
      "text/plain": [
       "{1, 2, 5, 8, 9}"
      ]
     },
     "execution_count": 2,
     "metadata": {},
     "output_type": "execute_result"
    }
   ],
   "source": [
    "s={1, 2, 5, 8}\n",
    "s.add(9)\n",
    "s"
   ]
  },
  {
   "cell_type": "code",
   "execution_count": null,
   "id": "f2e40dda-a141-4bfc-823d-c849b9ee6ca8",
   "metadata": {},
   "outputs": [],
   "source": [
    "# Immutable:- Immutable obejects are those obejects whose value can not be changed.\n",
    "# Example:- Tupple, String"
   ]
  },
  {
   "cell_type": "code",
   "execution_count": 3,
   "id": "c08ab9ee-7355-4f95-83c4-ec50d239ea55",
   "metadata": {},
   "outputs": [
    {
     "data": {
      "text/plain": [
       "15"
      ]
     },
     "execution_count": 3,
     "metadata": {},
     "output_type": "execute_result"
    }
   ],
   "source": [
    "# Q4:  Discuss the different types of operators in Python and provide examples of how they are used.\n",
    "# Ans: In Python, operators are special types of keywords used to perform operations on variables and values.\n",
    "# Python has several types of operators, each servinfg a different purpose. Here's is an oveview of the different types of operators\n",
    "# in Python, along with examples:\n",
    "# 1. Arithmetic operators:-\n",
    "# Example:- +, -, *, /, %, **.\n",
    "a = 5\n",
    "b = 10\n",
    "a+b"
   ]
  },
  {
   "cell_type": "code",
   "execution_count": 4,
   "id": "6a26b309-0bd5-431c-903d-501ea526a4bb",
   "metadata": {},
   "outputs": [
    {
     "data": {
      "text/plain": [
       "False"
      ]
     },
     "execution_count": 4,
     "metadata": {},
     "output_type": "execute_result"
    }
   ],
   "source": [
    "# 2. Comparison Operators:-\n",
    "# Example:- <, >, >=, <=, ==, !=.\n",
    "a = 10\n",
    "b = 15\n",
    "a>b"
   ]
  },
  {
   "cell_type": "code",
   "execution_count": 5,
   "id": "12f883f6-c899-46e6-aec0-beadfcd41e3a",
   "metadata": {},
   "outputs": [
    {
     "data": {
      "text/plain": [
       "True"
      ]
     },
     "execution_count": 5,
     "metadata": {},
     "output_type": "execute_result"
    }
   ],
   "source": [
    "# 3. Logical Operators:-\n",
    "# Example:-\n",
    "# Logical and\n",
    "# Logical or\n",
    "# Logical not\n",
    "a = 15\n",
    "b = 20\n",
    "(a>10)and(b<30)"
   ]
  },
  {
   "cell_type": "code",
   "execution_count": 6,
   "id": "0153e9f4-1edd-424c-a61d-3d5912653ba2",
   "metadata": {},
   "outputs": [
    {
     "data": {
      "text/plain": [
       "False"
      ]
     },
     "execution_count": 6,
     "metadata": {},
     "output_type": "execute_result"
    }
   ],
   "source": [
    "a = 50\n",
    "b = 60\n",
    "(a>100)or(b<10)"
   ]
  },
  {
   "cell_type": "code",
   "execution_count": 8,
   "id": "4c87aac7-7d27-489c-be70-59fd7bbb1523",
   "metadata": {},
   "outputs": [
    {
     "data": {
      "text/plain": [
       "4"
      ]
     },
     "execution_count": 8,
     "metadata": {},
     "output_type": "execute_result"
    }
   ],
   "source": [
    "# 4. Bitwise Operators:-\n",
    "# Example:-\n",
    "# Bitwise AND (&)\n",
    "# Bitwise OR (|)\n",
    "# Bitwise XOR (^)\n",
    "# Bitwise Left shift (<<)\n",
    "# Bitwise Right shift (>>)\n",
    "a = 12\n",
    "b = 5\n",
    "a&b"
   ]
  },
  {
   "cell_type": "code",
   "execution_count": 9,
   "id": "ffd01180-740c-4731-b645-60261834504f",
   "metadata": {},
   "outputs": [
    {
     "data": {
      "text/plain": [
       "13"
      ]
     },
     "execution_count": 9,
     "metadata": {},
     "output_type": "execute_result"
    }
   ],
   "source": [
    "a|b"
   ]
  },
  {
   "cell_type": "code",
   "execution_count": 10,
   "id": "f071801c-8d09-47eb-b0a0-4fa903f066d6",
   "metadata": {},
   "outputs": [
    {
     "data": {
      "text/plain": [
       "9"
      ]
     },
     "execution_count": 10,
     "metadata": {},
     "output_type": "execute_result"
    }
   ],
   "source": [
    "a^b"
   ]
  },
  {
   "cell_type": "code",
   "execution_count": 11,
   "id": "41fd3bfc-bfd0-439b-a994-fb5ab74b3f77",
   "metadata": {},
   "outputs": [
    {
     "data": {
      "text/plain": [
       "48"
      ]
     },
     "execution_count": 11,
     "metadata": {},
     "output_type": "execute_result"
    }
   ],
   "source": [
    "a<<2"
   ]
  },
  {
   "cell_type": "code",
   "execution_count": 12,
   "id": "7482c376-07df-478b-9076-02ae0df37cc3",
   "metadata": {},
   "outputs": [
    {
     "data": {
      "text/plain": [
       "3"
      ]
     },
     "execution_count": 12,
     "metadata": {},
     "output_type": "execute_result"
    }
   ],
   "source": [
    "a>>2"
   ]
  },
  {
   "cell_type": "code",
   "execution_count": 13,
   "id": "93ce4d37-64b3-498a-a89a-32e664c5f8f7",
   "metadata": {},
   "outputs": [
    {
     "data": {
      "text/plain": [
       "int"
      ]
     },
     "execution_count": 13,
     "metadata": {},
     "output_type": "execute_result"
    }
   ],
   "source": [
    "# Q5:  Explain the concept of type casting in Python with examples.\n",
    "# Ans: Type casting is the method to convertthe Python variable datatype into a certain data type.\n",
    "st = \"123\"\n",
    "result = int(st)\n",
    "result\n",
    "type(result)\n"
   ]
  },
  {
   "cell_type": "code",
   "execution_count": 14,
   "id": "2e868777-13ef-4d4f-b019-abaaab057888",
   "metadata": {},
   "outputs": [
    {
     "data": {
      "text/plain": [
       "float"
      ]
     },
     "execution_count": 14,
     "metadata": {},
     "output_type": "execute_result"
    }
   ],
   "source": [
    "int = 123\n",
    "result = float(int)\n",
    "result\n",
    "type(result)"
   ]
  },
  {
   "cell_type": "code",
   "execution_count": 15,
   "id": "5e8baa87-2236-4583-b8f1-6cdfcfed922f",
   "metadata": {},
   "outputs": [
    {
     "data": {
      "text/plain": [
       "list"
      ]
     },
     "execution_count": 15,
     "metadata": {},
     "output_type": "execute_result"
    }
   ],
   "source": [
    "tup = (1, 2, 3, 5)\n",
    "result = list(tup)\n",
    "result\n",
    "type(result)"
   ]
  },
  {
   "cell_type": "code",
   "execution_count": 16,
   "id": "be2d94ce-ab8c-4a01-bb08-31fa65767333",
   "metadata": {},
   "outputs": [
    {
     "data": {
      "text/plain": [
       "tuple"
      ]
     },
     "execution_count": 16,
     "metadata": {},
     "output_type": "execute_result"
    }
   ],
   "source": [
    "li = [1, 2, 3, 5]\n",
    "result = tuple(li)\n",
    "result\n",
    "type(result)"
   ]
  },
  {
   "cell_type": "code",
   "execution_count": 17,
   "id": "9a7775d4-3f8b-473e-b3d5-1ec7cfb31995",
   "metadata": {},
   "outputs": [
    {
     "name": "stdout",
     "output_type": "stream",
     "text": [
      "You are eligible for Voting\n"
     ]
    }
   ],
   "source": [
    "# Q6: How do conditional statements work in Python? Illustrate with examples.\n",
    "# Ans: Condtion statement in Python are used to execute code blocks based on certain conditions.\n",
    "# These statements allow the program to make decision and different code paths depending on whethera given condition is\n",
    "# 'Ture' or 'False'. The main condition statements in Pyhon are 'if', 'else', and 'elif', Nested 'if'\n",
    "# Example of if statement:-\n",
    "age = 19\n",
    "if age>=18:\n",
    "    print(\"You are eligible for Voting\")"
   ]
  },
  {
   "cell_type": "code",
   "execution_count": 18,
   "id": "70a28c2e-541d-4ade-b675-cc30be6d7a70",
   "metadata": {},
   "outputs": [
    {
     "name": "stdout",
     "output_type": "stream",
     "text": [
      "You are not eligible for Vote\n"
     ]
    }
   ],
   "source": [
    "# Example of if-else statement\n",
    "age = 17\n",
    "if age>=18:\n",
    "    print(\"You are eligible for Vote\")\n",
    "else:\n",
    "    print(\"You are not eligible for Vote\")"
   ]
  },
  {
   "cell_type": "code",
   "execution_count": 19,
   "id": "efa40447-f62a-4470-8b53-80fcdae211b3",
   "metadata": {},
   "outputs": [
    {
     "name": "stdout",
     "output_type": "stream",
     "text": [
      "Second Division\n"
     ]
    }
   ],
   "source": [
    "# Example of if-elif else statement\n",
    "grade = 5.5\n",
    "if grade>=7.0 and grade<=10.0:\n",
    "    print(\"First Division\")\n",
    "elif grade>=5.0 and grade<=7.0:\n",
    "    print(\"Second Division\")\n",
    "else:\n",
    "    print(\"Third Division\")"
   ]
  },
  {
   "cell_type": "code",
   "execution_count": 20,
   "id": "51398411-c8af-40c2-bb4f-5d82ead3ea09",
   "metadata": {},
   "outputs": [
    {
     "name": "stdout",
     "output_type": "stream",
     "text": [
      "The number is positive\n"
     ]
    }
   ],
   "source": [
    "# Example of Nested if-else statement\n",
    "num = 5\n",
    "if num > 0:\n",
    "    print(\"The number is positive\")\n",
    "else:\n",
    "    if num < 0:\n",
    "        print(\"The number is negative\")\n",
    "    else:\n",
    "        print(\"The number is zero\")"
   ]
  },
  {
   "cell_type": "code",
   "execution_count": 21,
   "id": "1f3f027b-834f-4b80-b5fb-a2d09299a266",
   "metadata": {},
   "outputs": [
    {
     "name": "stdout",
     "output_type": "stream",
     "text": [
      "1\n",
      "2\n",
      "3\n",
      "4\n"
     ]
    }
   ],
   "source": [
    "# Q7: Describe the different types of loops in Python and their use cases with examples.\n",
    "# Ans: Loop Statements:- Loop statement excute sequence of statements multiple times.\n",
    "# Types of loop statements:-\n",
    "# 1. For loop statement.\n",
    "# 2. While loop statement.\n",
    "#Example of For loop:-\n",
    "item = [1, 2, 3, 4, 5, 6]\n",
    "for item in range(1, 5, 1):\n",
    "    print(item)"
   ]
  },
  {
   "cell_type": "code",
   "execution_count": 22,
   "id": "60a76351-f4bc-4703-82bf-4b9a122c1ffa",
   "metadata": {},
   "outputs": [
    {
     "name": "stdout",
     "output_type": "stream",
     "text": [
      "1\n",
      "2\n",
      "3\n",
      "4\n",
      "5\n"
     ]
    }
   ],
   "source": [
    "# Example of While loop1:-\n",
    "i = 1\n",
    "while i < 6:\n",
    "    print(i)\n",
    "    i += 1"
   ]
  },
  {
   "cell_type": "code",
   "execution_count": 23,
   "id": "762c9af4-bb95-48b9-adeb-aeb5414de149",
   "metadata": {},
   "outputs": [
    {
     "name": "stdout",
     "output_type": "stream",
     "text": [
      "1\n"
     ]
    }
   ],
   "source": [
    "# Break and Continue statement:- Break statement stop the entire process of the loop and \n",
    "# Contine statement only stop the current iteratio of the loop.\n",
    "# Example of Break statement:-\n",
    "item = [1, 2, 3, 4, 5, 6, 7, 8, 9]\n",
    "for item in range(1, 10, 1):\n",
    "    if item %2 == 0:\n",
    "        break\n",
    "    print(item)"
   ]
  },
  {
   "cell_type": "code",
   "execution_count": 24,
   "id": "d7581bc3-0a4a-4306-9463-523c7b101e4d",
   "metadata": {},
   "outputs": [
    {
     "name": "stdout",
     "output_type": "stream",
     "text": [
      "1\n",
      "3\n",
      "5\n",
      "7\n",
      "9\n"
     ]
    }
   ],
   "source": [
    "# Example of Continue statement:-\n",
    "item = [1, 2, 3, 4, 5, 6, 7, 8, 9]\n",
    "for item in range(1, 10, 1):\n",
    "    if item %2 == 0:\n",
    "        continue\n",
    "    print(item)"
   ]
  },
  {
   "cell_type": "code",
   "execution_count": null,
   "id": "a10dd890-c81b-4968-b4bf-372a81380eac",
   "metadata": {},
   "outputs": [],
   "source": []
  }
 ],
 "metadata": {
  "kernelspec": {
   "display_name": "Python 3 (ipykernel)",
   "language": "python",
   "name": "python3"
  },
  "language_info": {
   "codemirror_mode": {
    "name": "ipython",
    "version": 3
   },
   "file_extension": ".py",
   "mimetype": "text/x-python",
   "name": "python",
   "nbconvert_exporter": "python",
   "pygments_lexer": "ipython3",
   "version": "3.10.8"
  }
 },
 "nbformat": 4,
 "nbformat_minor": 5
}
